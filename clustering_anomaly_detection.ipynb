{
 "cells": [
  {
   "cell_type": "markdown",
   "id": "2d8fcf08",
   "metadata": {},
   "source": [
    "Ideas:\n",
    "\n",
    "Use DBSCAN to detect anomalies in curriculumn access.\n",
    "\n",
    "Use DBSCAN to detect anomalies in other products from the customers dataset.\n",
    "\n",
    "Use DBSCAN to detect anomalies in number of bedrooms and finished square feet of property for the filtered dataset you used in the clustering project (single unit properties with a logerror)."
   ]
  },
  {
   "cell_type": "code",
   "execution_count": 1,
   "id": "a7d80286",
   "metadata": {},
   "outputs": [],
   "source": [
    "import warnings\n",
    "warnings.filterwarnings(\"ignore\")\n",
    "\n",
    "import os\n",
    "import matplotlib.pyplot as plt\n",
    "import numpy as np\n",
    "import pandas as pd\n",
    "\n",
    "# DBSCAN import\n",
    "from sklearn.cluster import DBSCAN\n",
    "\n",
    "# Scaler import\n",
    "from sklearn.preprocessing import MinMaxScaler\n",
    "import seaborn as sns\n",
    "import env"
   ]
  },
  {
   "cell_type": "code",
   "execution_count": 2,
   "id": "4de94ae1",
   "metadata": {},
   "outputs": [],
   "source": [
    "def get_curriculum_logs():\n",
    "    filename = \"curriculum-access.csv\"\n",
    "\n",
    "    if os.path.isfile(filename):\n",
    "        return pd.read_csv(filename, index_col=False)\n",
    "    else:\n",
    "        # read the SQL query into a dataframe\n",
    "        url = f'mysql+pymysql://{env.user}:{env.password}@{env.host}/curriculum_logs'\n",
    "        query = '''\n",
    "        SELECT date,\n",
    "               path as endpoint,\n",
    "               user_id,\n",
    "               cohort_id,\n",
    "               ip as source_ip\n",
    "        FROM logs;\n",
    "        '''\n",
    "        df = pd.read_sql(query, url)\n",
    "\n",
    "        # Write that dataframe to disk for later.\n",
    "        df.to_csv(filename, index = False)\n",
    "\n",
    "        return df  "
   ]
  },
  {
   "cell_type": "code",
   "execution_count": 3,
   "id": "c2b698be",
   "metadata": {},
   "outputs": [
    {
     "data": {
      "text/html": [
       "<div>\n",
       "<style scoped>\n",
       "    .dataframe tbody tr th:only-of-type {\n",
       "        vertical-align: middle;\n",
       "    }\n",
       "\n",
       "    .dataframe tbody tr th {\n",
       "        vertical-align: top;\n",
       "    }\n",
       "\n",
       "    .dataframe thead th {\n",
       "        text-align: right;\n",
       "    }\n",
       "</style>\n",
       "<table border=\"1\" class=\"dataframe\">\n",
       "  <thead>\n",
       "    <tr style=\"text-align: right;\">\n",
       "      <th></th>\n",
       "      <th>date</th>\n",
       "      <th>endpoint</th>\n",
       "      <th>user_id</th>\n",
       "      <th>cohort_id</th>\n",
       "      <th>source_ip</th>\n",
       "    </tr>\n",
       "  </thead>\n",
       "  <tbody>\n",
       "    <tr>\n",
       "      <th>0</th>\n",
       "      <td>2018-01-26</td>\n",
       "      <td>/</td>\n",
       "      <td>1</td>\n",
       "      <td>8.0</td>\n",
       "      <td>97.105.19.61</td>\n",
       "    </tr>\n",
       "    <tr>\n",
       "      <th>1</th>\n",
       "      <td>2018-01-26</td>\n",
       "      <td>java-ii</td>\n",
       "      <td>1</td>\n",
       "      <td>8.0</td>\n",
       "      <td>97.105.19.61</td>\n",
       "    </tr>\n",
       "    <tr>\n",
       "      <th>2</th>\n",
       "      <td>2018-01-26</td>\n",
       "      <td>java-ii/object-oriented-programming</td>\n",
       "      <td>1</td>\n",
       "      <td>8.0</td>\n",
       "      <td>97.105.19.61</td>\n",
       "    </tr>\n",
       "    <tr>\n",
       "      <th>3</th>\n",
       "      <td>2018-01-26</td>\n",
       "      <td>slides/object_oriented_programming</td>\n",
       "      <td>1</td>\n",
       "      <td>8.0</td>\n",
       "      <td>97.105.19.61</td>\n",
       "    </tr>\n",
       "    <tr>\n",
       "      <th>4</th>\n",
       "      <td>2018-01-26</td>\n",
       "      <td>javascript-i/conditionals</td>\n",
       "      <td>2</td>\n",
       "      <td>22.0</td>\n",
       "      <td>97.105.19.61</td>\n",
       "    </tr>\n",
       "  </tbody>\n",
       "</table>\n",
       "</div>"
      ],
      "text/plain": [
       "         date                             endpoint  user_id  cohort_id  \\\n",
       "0  2018-01-26                                    /        1        8.0   \n",
       "1  2018-01-26                              java-ii        1        8.0   \n",
       "2  2018-01-26  java-ii/object-oriented-programming        1        8.0   \n",
       "3  2018-01-26   slides/object_oriented_programming        1        8.0   \n",
       "4  2018-01-26            javascript-i/conditionals        2       22.0   \n",
       "\n",
       "      source_ip  \n",
       "0  97.105.19.61  \n",
       "1  97.105.19.61  \n",
       "2  97.105.19.61  \n",
       "3  97.105.19.61  \n",
       "4  97.105.19.61  "
      ]
     },
     "execution_count": 3,
     "metadata": {},
     "output_type": "execute_result"
    }
   ],
   "source": [
    "# acquire data using the above function\n",
    "df = get_curriculum_logs()\n",
    "df.head()"
   ]
  },
  {
   "cell_type": "code",
   "execution_count": 4,
   "id": "5c48a22b",
   "metadata": {},
   "outputs": [],
   "source": [
    "# convert date to a pandas datetime format and set as index\n",
    "df.date = pd.to_datetime(df.date)\n",
    "df = df.set_index(df.date)"
   ]
  },
  {
   "cell_type": "code",
   "execution_count": 5,
   "id": "595bade3",
   "metadata": {},
   "outputs": [
    {
     "data": {
      "text/html": [
       "<div>\n",
       "<style scoped>\n",
       "    .dataframe tbody tr th:only-of-type {\n",
       "        vertical-align: middle;\n",
       "    }\n",
       "\n",
       "    .dataframe tbody tr th {\n",
       "        vertical-align: top;\n",
       "    }\n",
       "\n",
       "    .dataframe thead th {\n",
       "        text-align: right;\n",
       "    }\n",
       "</style>\n",
       "<table border=\"1\" class=\"dataframe\">\n",
       "  <thead>\n",
       "    <tr style=\"text-align: right;\">\n",
       "      <th></th>\n",
       "      <th>count</th>\n",
       "      <th>nunique</th>\n",
       "    </tr>\n",
       "    <tr>\n",
       "      <th>user_id</th>\n",
       "      <th></th>\n",
       "      <th></th>\n",
       "    </tr>\n",
       "  </thead>\n",
       "  <tbody>\n",
       "    <tr>\n",
       "      <th>1</th>\n",
       "      <td>7404</td>\n",
       "      <td>976</td>\n",
       "    </tr>\n",
       "    <tr>\n",
       "      <th>2</th>\n",
       "      <td>1541</td>\n",
       "      <td>151</td>\n",
       "    </tr>\n",
       "    <tr>\n",
       "      <th>3</th>\n",
       "      <td>1562</td>\n",
       "      <td>169</td>\n",
       "    </tr>\n",
       "    <tr>\n",
       "      <th>4</th>\n",
       "      <td>692</td>\n",
       "      <td>143</td>\n",
       "    </tr>\n",
       "    <tr>\n",
       "      <th>5</th>\n",
       "      <td>1701</td>\n",
       "      <td>197</td>\n",
       "    </tr>\n",
       "    <tr>\n",
       "      <th>...</th>\n",
       "      <td>...</td>\n",
       "      <td>...</td>\n",
       "    </tr>\n",
       "    <tr>\n",
       "      <th>977</th>\n",
       "      <td>86</td>\n",
       "      <td>12</td>\n",
       "    </tr>\n",
       "    <tr>\n",
       "      <th>978</th>\n",
       "      <td>55</td>\n",
       "      <td>18</td>\n",
       "    </tr>\n",
       "    <tr>\n",
       "      <th>979</th>\n",
       "      <td>127</td>\n",
       "      <td>20</td>\n",
       "    </tr>\n",
       "    <tr>\n",
       "      <th>980</th>\n",
       "      <td>3</td>\n",
       "      <td>1</td>\n",
       "    </tr>\n",
       "    <tr>\n",
       "      <th>981</th>\n",
       "      <td>42</td>\n",
       "      <td>9</td>\n",
       "    </tr>\n",
       "  </tbody>\n",
       "</table>\n",
       "<p>981 rows × 2 columns</p>\n",
       "</div>"
      ],
      "text/plain": [
       "         count  nunique\n",
       "user_id                \n",
       "1         7404      976\n",
       "2         1541      151\n",
       "3         1562      169\n",
       "4          692      143\n",
       "5         1701      197\n",
       "...        ...      ...\n",
       "977         86       12\n",
       "978         55       18\n",
       "979        127       20\n",
       "980          3        1\n",
       "981         42        9\n",
       "\n",
       "[981 rows x 2 columns]"
      ]
     },
     "execution_count": 5,
     "metadata": {},
     "output_type": "execute_result"
    }
   ],
   "source": [
    "page_views = df.groupby(['user_id'])['endpoint'].agg(['count', 'nunique'])\n",
    "page_views"
   ]
  },
  {
   "cell_type": "code",
   "execution_count": 6,
   "id": "25e3f59f",
   "metadata": {},
   "outputs": [
    {
     "data": {
      "text/plain": [
       "array([[0.41329835, 1.        ],\n",
       "       [0.08597588, 0.15384615],\n",
       "       [0.08714828, 0.17230769],\n",
       "       [0.03857749, 0.14564103],\n",
       "       [0.09490844, 0.20102564],\n",
       "       [0.07855069, 0.22974359],\n",
       "       [0.10060295, 0.17435897],\n",
       "       [0.02690933, 0.09128205],\n",
       "       [0.03260384, 0.14871795],\n",
       "       [0.05141804, 0.14666667]])"
      ]
     },
     "execution_count": 6,
     "metadata": {},
     "output_type": "execute_result"
    }
   ],
   "source": [
    "# create the scaler\n",
    "scaler = MinMaxScaler().fit(page_views)\n",
    "# use the scaler\n",
    "page_views_scaled_array = scaler.transform(page_views)\n",
    "page_views_scaled_array[0:10]"
   ]
  },
  {
   "cell_type": "code",
   "execution_count": 7,
   "id": "aa2081c6",
   "metadata": {},
   "outputs": [],
   "source": [
    "dbsc = DBSCAN(eps = 0.1, min_samples=3).fit(page_views_scaled_array)"
   ]
  },
  {
   "cell_type": "code",
   "execution_count": 9,
   "id": "79ae48fa",
   "metadata": {},
   "outputs": [],
   "source": [
    "columns = list(page_views.columns)\n",
    "scaled_columns = [\"scaled_\" + column for column in columns]"
   ]
  },
  {
   "cell_type": "code",
   "execution_count": 10,
   "id": "166d3d06",
   "metadata": {},
   "outputs": [
    {
     "data": {
      "text/html": [
       "<div>\n",
       "<style scoped>\n",
       "    .dataframe tbody tr th:only-of-type {\n",
       "        vertical-align: middle;\n",
       "    }\n",
       "\n",
       "    .dataframe tbody tr th {\n",
       "        vertical-align: top;\n",
       "    }\n",
       "\n",
       "    .dataframe thead th {\n",
       "        text-align: right;\n",
       "    }\n",
       "</style>\n",
       "<table border=\"1\" class=\"dataframe\">\n",
       "  <thead>\n",
       "    <tr style=\"text-align: right;\">\n",
       "      <th></th>\n",
       "      <th>scaled_count</th>\n",
       "      <th>scaled_nunique</th>\n",
       "    </tr>\n",
       "    <tr>\n",
       "      <th>user_id</th>\n",
       "      <th></th>\n",
       "      <th></th>\n",
       "    </tr>\n",
       "  </thead>\n",
       "  <tbody>\n",
       "    <tr>\n",
       "      <th>1</th>\n",
       "      <td>0.413298</td>\n",
       "      <td>1.000000</td>\n",
       "    </tr>\n",
       "    <tr>\n",
       "      <th>2</th>\n",
       "      <td>0.085976</td>\n",
       "      <td>0.153846</td>\n",
       "    </tr>\n",
       "    <tr>\n",
       "      <th>3</th>\n",
       "      <td>0.087148</td>\n",
       "      <td>0.172308</td>\n",
       "    </tr>\n",
       "    <tr>\n",
       "      <th>4</th>\n",
       "      <td>0.038577</td>\n",
       "      <td>0.145641</td>\n",
       "    </tr>\n",
       "    <tr>\n",
       "      <th>5</th>\n",
       "      <td>0.094908</td>\n",
       "      <td>0.201026</td>\n",
       "    </tr>\n",
       "  </tbody>\n",
       "</table>\n",
       "</div>"
      ],
      "text/plain": [
       "         scaled_count  scaled_nunique\n",
       "user_id                              \n",
       "1            0.413298        1.000000\n",
       "2            0.085976        0.153846\n",
       "3            0.087148        0.172308\n",
       "4            0.038577        0.145641\n",
       "5            0.094908        0.201026"
      ]
     },
     "execution_count": 10,
     "metadata": {},
     "output_type": "execute_result"
    }
   ],
   "source": [
    "# Create a dataframe containing the scaled values\n",
    "scaled_df = pd.DataFrame(page_views_scaled_array, columns=scaled_columns, index=page_views.index)\n",
    "scaled_df.head()"
   ]
  },
  {
   "cell_type": "code",
   "execution_count": 11,
   "id": "2f5cc84a",
   "metadata": {},
   "outputs": [],
   "source": [
    "page_views = page_views.merge(scaled_df, left_index=True, right_index=True)"
   ]
  },
  {
   "cell_type": "code",
   "execution_count": 12,
   "id": "b7f6bb34",
   "metadata": {},
   "outputs": [],
   "source": [
    "labels = dbsc.labels_"
   ]
  },
  {
   "cell_type": "code",
   "execution_count": 13,
   "id": "c332cc9f",
   "metadata": {},
   "outputs": [],
   "source": [
    "page_views['labels'] = labels"
   ]
  },
  {
   "cell_type": "code",
   "execution_count": 14,
   "id": "7c6d631f",
   "metadata": {},
   "outputs": [
    {
     "data": {
      "image/png": "[encoded data removed]",
      "text/plain": [
       "<Figure size 432x288 with 1 Axes>"
      ]
     },
     "metadata": {
      "needs_background": "light"
     },
     "output_type": "display_data"
    }
   ],
   "source": [
    "plt.scatter(page_views['scaled_count'], page_views['scaled_nunique'], c=page_views.labels)\n",
    "plt.show()"
   ]
  },
  {
   "cell_type": "code",
   "execution_count": 15,
   "id": "9262430a",
   "metadata": {},
   "outputs": [],
   "source": [
    "# Lets cluster on groceries"
   ]
  },
  {
   "cell_type": "code",
   "execution_count": 17,
   "id": "0cf1e516",
   "metadata": {},
   "outputs": [
    {
     "data": {
      "text/html": [
       "<div>\n",
       "<style scoped>\n",
       "    .dataframe tbody tr th:only-of-type {\n",
       "        vertical-align: middle;\n",
       "    }\n",
       "\n",
       "    .dataframe tbody tr th {\n",
       "        vertical-align: top;\n",
       "    }\n",
       "\n",
       "    .dataframe thead th {\n",
       "        text-align: right;\n",
       "    }\n",
       "</style>\n",
       "<table border=\"1\" class=\"dataframe\">\n",
       "  <thead>\n",
       "    <tr style=\"text-align: right;\">\n",
       "      <th></th>\n",
       "      <th>Channel</th>\n",
       "      <th>Region</th>\n",
       "      <th>Fresh</th>\n",
       "      <th>Milk</th>\n",
       "      <th>Grocery</th>\n",
       "      <th>Frozen</th>\n",
       "      <th>Detergents_Paper</th>\n",
       "      <th>Delicassen</th>\n",
       "    </tr>\n",
       "    <tr>\n",
       "      <th>customer_id</th>\n",
       "      <th></th>\n",
       "      <th></th>\n",
       "      <th></th>\n",
       "      <th></th>\n",
       "      <th></th>\n",
       "      <th></th>\n",
       "      <th></th>\n",
       "      <th></th>\n",
       "    </tr>\n",
       "  </thead>\n",
       "  <tbody>\n",
       "    <tr>\n",
       "      <th>0</th>\n",
       "      <td>2</td>\n",
       "      <td>3</td>\n",
       "      <td>12669</td>\n",
       "      <td>9656</td>\n",
       "      <td>7561</td>\n",
       "      <td>214</td>\n",
       "      <td>2674</td>\n",
       "      <td>1338</td>\n",
       "    </tr>\n",
       "    <tr>\n",
       "      <th>1</th>\n",
       "      <td>2</td>\n",
       "      <td>3</td>\n",
       "      <td>7057</td>\n",
       "      <td>9810</td>\n",
       "      <td>9568</td>\n",
       "      <td>1762</td>\n",
       "      <td>3293</td>\n",
       "      <td>1776</td>\n",
       "    </tr>\n",
       "    <tr>\n",
       "      <th>2</th>\n",
       "      <td>2</td>\n",
       "      <td>3</td>\n",
       "      <td>6353</td>\n",
       "      <td>8808</td>\n",
       "      <td>7684</td>\n",
       "      <td>2405</td>\n",
       "      <td>3516</td>\n",
       "      <td>7844</td>\n",
       "    </tr>\n",
       "    <tr>\n",
       "      <th>3</th>\n",
       "      <td>1</td>\n",
       "      <td>3</td>\n",
       "      <td>13265</td>\n",
       "      <td>1196</td>\n",
       "      <td>4221</td>\n",
       "      <td>6404</td>\n",
       "      <td>507</td>\n",
       "      <td>1788</td>\n",
       "    </tr>\n",
       "    <tr>\n",
       "      <th>4</th>\n",
       "      <td>2</td>\n",
       "      <td>3</td>\n",
       "      <td>22615</td>\n",
       "      <td>5410</td>\n",
       "      <td>7198</td>\n",
       "      <td>3915</td>\n",
       "      <td>1777</td>\n",
       "      <td>5185</td>\n",
       "    </tr>\n",
       "  </tbody>\n",
       "</table>\n",
       "</div>"
      ],
      "text/plain": [
       "             Channel  Region  Fresh  Milk  Grocery  Frozen  Detergents_Paper  \\\n",
       "customer_id                                                                    \n",
       "0                  2       3  12669  9656     7561     214              2674   \n",
       "1                  2       3   7057  9810     9568    1762              3293   \n",
       "2                  2       3   6353  8808     7684    2405              3516   \n",
       "3                  1       3  13265  1196     4221    6404               507   \n",
       "4                  2       3  22615  5410     7198    3915              1777   \n",
       "\n",
       "             Delicassen  \n",
       "customer_id              \n",
       "0                  1338  \n",
       "1                  1776  \n",
       "2                  7844  \n",
       "3                  1788  \n",
       "4                  5185  "
      ]
     },
     "execution_count": 17,
     "metadata": {},
     "output_type": "execute_result"
    }
   ],
   "source": [
    "\n",
    "url = f'mysql+pymysql://{env.user}:{env.password}@{env.host}/grocery_db'\n",
    "sql = \"\"\"\n",
    "select *\n",
    "from grocery_customers\n",
    "\"\"\"\n",
    "\n",
    "df = pd.read_sql(sql, url, index_col=\"customer_id\")\n",
    "df.head()"
   ]
  },
  {
   "cell_type": "code",
   "execution_count": 18,
   "id": "5a443805",
   "metadata": {},
   "outputs": [
    {
     "data": {
      "text/html": [
       "<div>\n",
       "<style scoped>\n",
       "    .dataframe tbody tr th:only-of-type {\n",
       "        vertical-align: middle;\n",
       "    }\n",
       "\n",
       "    .dataframe tbody tr th {\n",
       "        vertical-align: top;\n",
       "    }\n",
       "\n",
       "    .dataframe thead th {\n",
       "        text-align: right;\n",
       "    }\n",
       "</style>\n",
       "<table border=\"1\" class=\"dataframe\">\n",
       "  <thead>\n",
       "    <tr style=\"text-align: right;\">\n",
       "      <th></th>\n",
       "      <th>Frozen</th>\n",
       "      <th>Detergents_Paper</th>\n",
       "      <th>Delicassen</th>\n",
       "    </tr>\n",
       "    <tr>\n",
       "      <th>customer_id</th>\n",
       "      <th></th>\n",
       "      <th></th>\n",
       "      <th></th>\n",
       "    </tr>\n",
       "  </thead>\n",
       "  <tbody>\n",
       "    <tr>\n",
       "      <th>0</th>\n",
       "      <td>214</td>\n",
       "      <td>2674</td>\n",
       "      <td>1338</td>\n",
       "    </tr>\n",
       "    <tr>\n",
       "      <th>1</th>\n",
       "      <td>1762</td>\n",
       "      <td>3293</td>\n",
       "      <td>1776</td>\n",
       "    </tr>\n",
       "  </tbody>\n",
       "</table>\n",
       "</div>"
      ],
      "text/plain": [
       "             Frozen  Detergents_Paper  Delicassen\n",
       "customer_id                                      \n",
       "0               214              2674        1338\n",
       "1              1762              3293        1776"
      ]
     },
     "execution_count": 18,
     "metadata": {},
     "output_type": "execute_result"
    }
   ],
   "source": [
    "# Cluster on all or a selected subset of features\n",
    "frozen_detergent_delicassen = df[[\"Frozen\", \"Detergents_Paper\", \"Delicassen\"]]\n",
    "frozen_detergent_delicassen.head(2)"
   ]
  },
  {
   "cell_type": "code",
   "execution_count": 19,
   "id": "3d2b507f",
   "metadata": {},
   "outputs": [
    {
     "data": {
      "text/plain": [
       "array([[0.0031063 , 0.0654272 , 0.02784731],\n",
       "       [0.02854842, 0.08058985, 0.03698373],\n",
       "       [0.03911643, 0.08605232, 0.16355861],\n",
       "       ...,\n",
       "       [0.00677142, 0.36346267, 0.03888194],\n",
       "       [0.01664914, 0.00404174, 0.04426366],\n",
       "       [0.00065742, 0.01161082, 0.00102211]])"
      ]
     },
     "execution_count": 19,
     "metadata": {},
     "output_type": "execute_result"
    }
   ],
   "source": [
    "# Make the scaler\n",
    "scaler = MinMaxScaler().fit(frozen_detergent_delicassen)\n",
    "\n",
    "\n",
    "# Use the scaler\n",
    "frozen_detergent_delicassen = scaler.transform(frozen_detergent_delicassen)\n",
    "frozen_detergent_delicassen"
   ]
  },
  {
   "cell_type": "code",
   "execution_count": 20,
   "id": "8215f521",
   "metadata": {},
   "outputs": [
    {
     "data": {
      "text/plain": [
       "DBSCAN(eps=0.1)"
      ]
     },
     "execution_count": 20,
     "metadata": {},
     "output_type": "execute_result"
    }
   ],
   "source": [
    "# Make the object\n",
    "dbsc = DBSCAN(eps = .10, min_samples = 5)\n",
    "\n",
    "# Fit the object\n",
    "dbsc.fit(frozen_detergent_delicassen)"
   ]
  },
  {
   "cell_type": "code",
   "execution_count": 21,
   "id": "aa7e6c9c",
   "metadata": {},
   "outputs": [
    {
     "data": {
      "text/html": [
       "<div>\n",
       "<style scoped>\n",
       "    .dataframe tbody tr th:only-of-type {\n",
       "        vertical-align: middle;\n",
       "    }\n",
       "\n",
       "    .dataframe tbody tr th {\n",
       "        vertical-align: top;\n",
       "    }\n",
       "\n",
       "    .dataframe thead th {\n",
       "        text-align: right;\n",
       "    }\n",
       "</style>\n",
       "<table border=\"1\" class=\"dataframe\">\n",
       "  <thead>\n",
       "    <tr style=\"text-align: right;\">\n",
       "      <th></th>\n",
       "      <th>Channel</th>\n",
       "      <th>Region</th>\n",
       "      <th>Fresh</th>\n",
       "      <th>Milk</th>\n",
       "      <th>Grocery</th>\n",
       "      <th>Frozen</th>\n",
       "      <th>Detergents_Paper</th>\n",
       "      <th>Delicassen</th>\n",
       "      <th>Scaled_Frozen</th>\n",
       "      <th>Scaled_Detergents_Paper</th>\n",
       "      <th>Scaled_Delicassen</th>\n",
       "    </tr>\n",
       "  </thead>\n",
       "  <tbody>\n",
       "    <tr>\n",
       "      <th>0</th>\n",
       "      <td>2</td>\n",
       "      <td>3</td>\n",
       "      <td>12669</td>\n",
       "      <td>9656</td>\n",
       "      <td>7561</td>\n",
       "      <td>214</td>\n",
       "      <td>2674</td>\n",
       "      <td>1338</td>\n",
       "      <td>0.003106</td>\n",
       "      <td>0.065427</td>\n",
       "      <td>0.027847</td>\n",
       "    </tr>\n",
       "    <tr>\n",
       "      <th>1</th>\n",
       "      <td>2</td>\n",
       "      <td>3</td>\n",
       "      <td>7057</td>\n",
       "      <td>9810</td>\n",
       "      <td>9568</td>\n",
       "      <td>1762</td>\n",
       "      <td>3293</td>\n",
       "      <td>1776</td>\n",
       "      <td>0.028548</td>\n",
       "      <td>0.080590</td>\n",
       "      <td>0.036984</td>\n",
       "    </tr>\n",
       "    <tr>\n",
       "      <th>2</th>\n",
       "      <td>2</td>\n",
       "      <td>3</td>\n",
       "      <td>6353</td>\n",
       "      <td>8808</td>\n",
       "      <td>7684</td>\n",
       "      <td>2405</td>\n",
       "      <td>3516</td>\n",
       "      <td>7844</td>\n",
       "      <td>0.039116</td>\n",
       "      <td>0.086052</td>\n",
       "      <td>0.163559</td>\n",
       "    </tr>\n",
       "    <tr>\n",
       "      <th>3</th>\n",
       "      <td>1</td>\n",
       "      <td>3</td>\n",
       "      <td>13265</td>\n",
       "      <td>1196</td>\n",
       "      <td>4221</td>\n",
       "      <td>6404</td>\n",
       "      <td>507</td>\n",
       "      <td>1788</td>\n",
       "      <td>0.104842</td>\n",
       "      <td>0.012346</td>\n",
       "      <td>0.037234</td>\n",
       "    </tr>\n",
       "    <tr>\n",
       "      <th>4</th>\n",
       "      <td>2</td>\n",
       "      <td>3</td>\n",
       "      <td>22615</td>\n",
       "      <td>5410</td>\n",
       "      <td>7198</td>\n",
       "      <td>3915</td>\n",
       "      <td>1777</td>\n",
       "      <td>5185</td>\n",
       "      <td>0.063934</td>\n",
       "      <td>0.043455</td>\n",
       "      <td>0.108093</td>\n",
       "    </tr>\n",
       "  </tbody>\n",
       "</table>\n",
       "</div>"
      ],
      "text/plain": [
       "   Channel  Region  Fresh  Milk  Grocery  Frozen  Detergents_Paper  \\\n",
       "0        2       3  12669  9656     7561     214              2674   \n",
       "1        2       3   7057  9810     9568    1762              3293   \n",
       "2        2       3   6353  8808     7684    2405              3516   \n",
       "3        1       3  13265  1196     4221    6404               507   \n",
       "4        2       3  22615  5410     7198    3915              1777   \n",
       "\n",
       "   Delicassen  Scaled_Frozen  Scaled_Detergents_Paper  Scaled_Delicassen  \n",
       "0        1338       0.003106                 0.065427           0.027847  \n",
       "1        1776       0.028548                 0.080590           0.036984  \n",
       "2        7844       0.039116                 0.086052           0.163559  \n",
       "3        1788       0.104842                 0.012346           0.037234  \n",
       "4        5185       0.063934                 0.043455           0.108093  "
      ]
     },
     "execution_count": 21,
     "metadata": {},
     "output_type": "execute_result"
    }
   ],
   "source": [
    "# Now, let's add the scaled value columns back onto the dataframe\n",
    "columns = [\"Frozen\", \"Detergents_Paper\", \"Delicassen\"]\n",
    "scaled_columns = [\"Scaled_\" + column for column in columns]\n",
    "\n",
    "# Save a copy of the original dataframe\n",
    "original_df = df.copy()\n",
    "\n",
    "# Create a dataframe containing the scaled values\n",
    "scaled_df = pd.DataFrame(frozen_detergent_delicassen, columns=scaled_columns)\n",
    "\n",
    "# Merge the scaled and non-scaled values into one dataframe\n",
    "df = df.merge(scaled_df, on=df.index)\n",
    "df = df.drop(columns=['key_0'])\n",
    "df.head()"
   ]
  },
  {
   "cell_type": "code",
   "execution_count": 22,
   "id": "2b9cdf5e",
   "metadata": {},
   "outputs": [
    {
     "data": {
      "text/plain": [
       " 0    428\n",
       "-1     12\n",
       "Name: labels, dtype: int64"
      ]
     },
     "execution_count": 22,
     "metadata": {},
     "output_type": "execute_result"
    }
   ],
   "source": [
    "df['labels'] = dbsc.labels_\n",
    "df.labels.value_counts()"
   ]
  },
  {
   "cell_type": "code",
   "execution_count": 23,
   "id": "22027226",
   "metadata": {},
   "outputs": [
    {
     "data": {
      "image/png": "[encoded data removed]",
      "text/plain": [
       "<Figure size 432x288 with 1 Axes>"
      ]
     },
     "metadata": {
      "needs_background": "light"
     },
     "output_type": "display_data"
    }
   ],
   "source": [
    "plt.scatter(df['Scaled_Frozen'], df['Scaled_Delicassen'], c=df.labels)\n",
    "plt.show()"
   ]
  },
  {
   "cell_type": "code",
   "execution_count": 24,
   "id": "4f796418",
   "metadata": {},
   "outputs": [
    {
     "data": {
      "image/png": "[encoded data removed]",
      "text/plain": [
       "<Figure size 432x288 with 1 Axes>"
      ]
     },
     "metadata": {
      "needs_background": "light"
     },
     "output_type": "display_data"
    }
   ],
   "source": [
    "plt.scatter(df['Scaled_Detergents_Paper'], df['Scaled_Delicassen'], c=df.labels)\n",
    "plt.show()"
   ]
  },
  {
   "cell_type": "code",
   "execution_count": 28,
   "id": "a68ee7c9",
   "metadata": {},
   "outputs": [
    {
     "data": {
      "image/png": "[encoded data removed]",
      "text/plain": [
       "<Figure size 432x288 with 1 Axes>"
      ]
     },
     "metadata": {
      "needs_background": "light"
     },
     "output_type": "display_data"
    },
    {
     "data": {
      "image/png": "[encoded data removed]",
      "text/plain": [
       "<Figure size 432x288 with 1 Axes>"
      ]
     },
     "metadata": {
      "needs_background": "light"
     },
     "output_type": "display_data"
    }
   ],
   "source": [
    "sns.scatterplot(df.Frozen, df.Detergents_Paper, hue=df.labels)\n",
    "plt.show()\n",
    "\n",
    "sns.scatterplot(df.Delicassen, df.Detergents_Paper, hue=df.labels)\n",
    "plt.show()"
   ]
  },
  {
   "cell_type": "markdown",
   "id": "8a8b4506",
   "metadata": {},
   "source": [
    "### Getting a 3d view"
   ]
  },
  {
   "cell_type": "code",
   "execution_count": 29,
   "id": "e83d34c9",
   "metadata": {},
   "outputs": [
    {
     "data": {
      "text/plain": [
       "Text(0.5, 0, 'Delicassen')"
      ]
     },
     "execution_count": 29,
     "metadata": {},
     "output_type": "execute_result"
    },
    {
     "data": {
      "image/png": "[encoded data removed]",
      "text/plain": [
       "<Figure size 576x576 with 1 Axes>"
      ]
     },
     "metadata": {
      "needs_background": "light"
     },
     "output_type": "display_data"
    }
   ],
   "source": [
    "from mpl_toolkits.mplot3d import Axes3D\n",
    "\n",
    "fig = plt.figure(1, figsize=(8, 8))\n",
    "ax = Axes3D(fig, rect=[0, 0, .95, 1], elev=48, azim=134)\n",
    "\n",
    "# plot the points\n",
    "ax.scatter(df.Frozen, df.Detergents_Paper, df.Delicassen,\n",
    "           c=df.labels, edgecolor='k')\n",
    "\n",
    "ax.w_xaxis.set_ticklabels([])\n",
    "ax.w_yaxis.set_ticklabels([])\n",
    "ax.w_zaxis.set_ticklabels([])\n",
    "\n",
    "ax.set_xlabel('Frozen')\n",
    "ax.set_ylabel('Detergents_Paper')\n",
    "ax.set_zlabel('Delicassen')"
   ]
  },
  {
   "cell_type": "markdown",
   "id": "c8aee995",
   "metadata": {},
   "source": [
    "#### Use DBSCAN to detect anomalies in number of bedrooms and finished square feet of property for the filtered dataset you used in the clustering project (single unit properties with a logerror)."
   ]
  },
  {
   "cell_type": "code",
   "execution_count": 2,
   "id": "83572e4b",
   "metadata": {},
   "outputs": [
    {
     "data": {
      "text/html": [
       "<div>\n",
       "<style scoped>\n",
       "    .dataframe tbody tr th:only-of-type {\n",
       "        vertical-align: middle;\n",
       "    }\n",
       "\n",
       "    .dataframe tbody tr th {\n",
       "        vertical-align: top;\n",
       "    }\n",
       "\n",
       "    .dataframe thead th {\n",
       "        text-align: right;\n",
       "    }\n",
       "</style>\n",
       "<table border=\"1\" class=\"dataframe\">\n",
       "  <thead>\n",
       "    <tr style=\"text-align: right;\">\n",
       "      <th></th>\n",
       "      <th>parcelid</th>\n",
       "      <th>airconditioningtypeid</th>\n",
       "      <th>architecturalstyletypeid</th>\n",
       "      <th>basementsqft</th>\n",
       "      <th>bathroomcnt</th>\n",
       "      <th>bedroomcnt</th>\n",
       "      <th>buildingclasstypeid</th>\n",
       "      <th>buildingqualitytypeid</th>\n",
       "      <th>calculatedbathnbr</th>\n",
       "      <th>decktypeid</th>\n",
       "      <th>...</th>\n",
       "      <th>censustractandblock</th>\n",
       "      <th>logerror</th>\n",
       "      <th>transactiondate</th>\n",
       "      <th>airconditioningdesc</th>\n",
       "      <th>architecturalstyledesc</th>\n",
       "      <th>buildingclassdesc</th>\n",
       "      <th>heatingorsystemdesc</th>\n",
       "      <th>propertylandusedesc</th>\n",
       "      <th>storydesc</th>\n",
       "      <th>typeconstructiondesc</th>\n",
       "    </tr>\n",
       "    <tr>\n",
       "      <th>id</th>\n",
       "      <th></th>\n",
       "      <th></th>\n",
       "      <th></th>\n",
       "      <th></th>\n",
       "      <th></th>\n",
       "      <th></th>\n",
       "      <th></th>\n",
       "      <th></th>\n",
       "      <th></th>\n",
       "      <th></th>\n",
       "      <th></th>\n",
       "      <th></th>\n",
       "      <th></th>\n",
       "      <th></th>\n",
       "      <th></th>\n",
       "      <th></th>\n",
       "      <th></th>\n",
       "      <th></th>\n",
       "      <th></th>\n",
       "      <th></th>\n",
       "      <th></th>\n",
       "    </tr>\n",
       "  </thead>\n",
       "  <tbody>\n",
       "    <tr>\n",
       "      <th>1727539</th>\n",
       "      <td>14297519</td>\n",
       "      <td>NaN</td>\n",
       "      <td>NaN</td>\n",
       "      <td>NaN</td>\n",
       "      <td>3.5</td>\n",
       "      <td>4.0</td>\n",
       "      <td>NaN</td>\n",
       "      <td>NaN</td>\n",
       "      <td>3.5</td>\n",
       "      <td>NaN</td>\n",
       "      <td>...</td>\n",
       "      <td>6.059063e+13</td>\n",
       "      <td>0.025595</td>\n",
       "      <td>2017-01-01</td>\n",
       "      <td>None</td>\n",
       "      <td>None</td>\n",
       "      <td>None</td>\n",
       "      <td>None</td>\n",
       "      <td>Single Family Residential</td>\n",
       "      <td>None</td>\n",
       "      <td>None</td>\n",
       "    </tr>\n",
       "    <tr>\n",
       "      <th>1387261</th>\n",
       "      <td>17052889</td>\n",
       "      <td>NaN</td>\n",
       "      <td>NaN</td>\n",
       "      <td>NaN</td>\n",
       "      <td>1.0</td>\n",
       "      <td>2.0</td>\n",
       "      <td>NaN</td>\n",
       "      <td>NaN</td>\n",
       "      <td>1.0</td>\n",
       "      <td>NaN</td>\n",
       "      <td>...</td>\n",
       "      <td>6.111001e+13</td>\n",
       "      <td>0.055619</td>\n",
       "      <td>2017-01-01</td>\n",
       "      <td>None</td>\n",
       "      <td>None</td>\n",
       "      <td>None</td>\n",
       "      <td>None</td>\n",
       "      <td>Single Family Residential</td>\n",
       "      <td>None</td>\n",
       "      <td>None</td>\n",
       "    </tr>\n",
       "    <tr>\n",
       "      <th>11677</th>\n",
       "      <td>14186244</td>\n",
       "      <td>NaN</td>\n",
       "      <td>NaN</td>\n",
       "      <td>NaN</td>\n",
       "      <td>2.0</td>\n",
       "      <td>3.0</td>\n",
       "      <td>NaN</td>\n",
       "      <td>NaN</td>\n",
       "      <td>2.0</td>\n",
       "      <td>NaN</td>\n",
       "      <td>...</td>\n",
       "      <td>6.059022e+13</td>\n",
       "      <td>0.005383</td>\n",
       "      <td>2017-01-01</td>\n",
       "      <td>None</td>\n",
       "      <td>None</td>\n",
       "      <td>None</td>\n",
       "      <td>None</td>\n",
       "      <td>Single Family Residential</td>\n",
       "      <td>None</td>\n",
       "      <td>None</td>\n",
       "    </tr>\n",
       "    <tr>\n",
       "      <th>2288172</th>\n",
       "      <td>12177905</td>\n",
       "      <td>NaN</td>\n",
       "      <td>NaN</td>\n",
       "      <td>NaN</td>\n",
       "      <td>3.0</td>\n",
       "      <td>4.0</td>\n",
       "      <td>NaN</td>\n",
       "      <td>8.0</td>\n",
       "      <td>3.0</td>\n",
       "      <td>NaN</td>\n",
       "      <td>...</td>\n",
       "      <td>6.037300e+13</td>\n",
       "      <td>-0.103410</td>\n",
       "      <td>2017-01-01</td>\n",
       "      <td>None</td>\n",
       "      <td>None</td>\n",
       "      <td>None</td>\n",
       "      <td>Central</td>\n",
       "      <td>Single Family Residential</td>\n",
       "      <td>None</td>\n",
       "      <td>None</td>\n",
       "    </tr>\n",
       "    <tr>\n",
       "      <th>1970746</th>\n",
       "      <td>10887214</td>\n",
       "      <td>1.0</td>\n",
       "      <td>NaN</td>\n",
       "      <td>NaN</td>\n",
       "      <td>3.0</td>\n",
       "      <td>3.0</td>\n",
       "      <td>NaN</td>\n",
       "      <td>8.0</td>\n",
       "      <td>3.0</td>\n",
       "      <td>NaN</td>\n",
       "      <td>...</td>\n",
       "      <td>6.037124e+13</td>\n",
       "      <td>0.006940</td>\n",
       "      <td>2017-01-01</td>\n",
       "      <td>Central</td>\n",
       "      <td>None</td>\n",
       "      <td>None</td>\n",
       "      <td>Central</td>\n",
       "      <td>Condominium</td>\n",
       "      <td>None</td>\n",
       "      <td>None</td>\n",
       "    </tr>\n",
       "  </tbody>\n",
       "</table>\n",
       "<p>5 rows × 67 columns</p>\n",
       "</div>"
      ],
      "text/plain": [
       "         parcelid  airconditioningtypeid  architecturalstyletypeid  \\\n",
       "id                                                                   \n",
       "1727539  14297519                    NaN                       NaN   \n",
       "1387261  17052889                    NaN                       NaN   \n",
       "11677    14186244                    NaN                       NaN   \n",
       "2288172  12177905                    NaN                       NaN   \n",
       "1970746  10887214                    1.0                       NaN   \n",
       "\n",
       "         basementsqft  bathroomcnt  bedroomcnt  buildingclasstypeid  \\\n",
       "id                                                                    \n",
       "1727539           NaN          3.5         4.0                  NaN   \n",
       "1387261           NaN          1.0         2.0                  NaN   \n",
       "11677             NaN          2.0         3.0                  NaN   \n",
       "2288172           NaN          3.0         4.0                  NaN   \n",
       "1970746           NaN          3.0         3.0                  NaN   \n",
       "\n",
       "         buildingqualitytypeid  calculatedbathnbr  decktypeid  ...  \\\n",
       "id                                                             ...   \n",
       "1727539                    NaN                3.5         NaN  ...   \n",
       "1387261                    NaN                1.0         NaN  ...   \n",
       "11677                      NaN                2.0         NaN  ...   \n",
       "2288172                    8.0                3.0         NaN  ...   \n",
       "1970746                    8.0                3.0         NaN  ...   \n",
       "\n",
       "         censustractandblock  logerror  transactiondate  airconditioningdesc  \\\n",
       "id                                                                             \n",
       "1727539         6.059063e+13  0.025595       2017-01-01                 None   \n",
       "1387261         6.111001e+13  0.055619       2017-01-01                 None   \n",
       "11677           6.059022e+13  0.005383       2017-01-01                 None   \n",
       "2288172         6.037300e+13 -0.103410       2017-01-01                 None   \n",
       "1970746         6.037124e+13  0.006940       2017-01-01              Central   \n",
       "\n",
       "         architecturalstyledesc  buildingclassdesc  heatingorsystemdesc  \\\n",
       "id                                                                        \n",
       "1727539                    None               None                 None   \n",
       "1387261                    None               None                 None   \n",
       "11677                      None               None                 None   \n",
       "2288172                    None               None              Central   \n",
       "1970746                    None               None              Central   \n",
       "\n",
       "               propertylandusedesc  storydesc  typeconstructiondesc  \n",
       "id                                                                   \n",
       "1727539  Single Family Residential       None                  None  \n",
       "1387261  Single Family Residential       None                  None  \n",
       "11677    Single Family Residential       None                  None  \n",
       "2288172  Single Family Residential       None                  None  \n",
       "1970746                Condominium       None                  None  \n",
       "\n",
       "[5 rows x 67 columns]"
      ]
     },
     "execution_count": 2,
     "metadata": {},
     "output_type": "execute_result"
    }
   ],
   "source": [
    "url = f'mysql+pymysql://{env.user}:{env.password}@{env.host}/zillow'\n",
    "sql = \"\"\"\n",
    "SELECT prop.*, \n",
    "       pred.logerror, \n",
    "       pred.transactiondate, \n",
    "       air.airconditioningdesc, \n",
    "       arch.architecturalstyledesc, \n",
    "       build.buildingclassdesc, \n",
    "       heat.heatingorsystemdesc, \n",
    "       landuse.propertylandusedesc, \n",
    "       story.storydesc, \n",
    "       construct.typeconstructiondesc \n",
    "FROM   properties_2017 prop  \n",
    "       INNER JOIN (SELECT parcelid,\n",
    "       \t\t\t\t\t  logerror,\n",
    "                          Max(transactiondate) transactiondate \n",
    "                   FROM   predictions_2017 \n",
    "                   GROUP  BY parcelid, logerror) pred\n",
    "               USING (parcelid) \n",
    "       LEFT JOIN airconditioningtype air USING (airconditioningtypeid) \n",
    "       LEFT JOIN architecturalstyletype arch USING (architecturalstyletypeid) \n",
    "       LEFT JOIN buildingclasstype build USING (buildingclasstypeid) \n",
    "       LEFT JOIN heatingorsystemtype heat USING (heatingorsystemtypeid) \n",
    "       LEFT JOIN propertylandusetype landuse USING (propertylandusetypeid) \n",
    "       LEFT JOIN storytype story USING (storytypeid) \n",
    "       LEFT JOIN typeconstructiontype construct USING (typeconstructiontypeid) \n",
    "WHERE  prop.latitude IS NOT NULL \n",
    "       AND prop.longitude IS NOT NULL AND transactiondate <= '2017-12-31';\n",
    "\"\"\"\n",
    "\n",
    "df_zillow = pd.read_sql(sql, url, index_col=\"id\")\n",
    "df_zillow.head()"
   ]
  },
  {
   "cell_type": "code",
   "execution_count": 3,
   "id": "77ac4c16",
   "metadata": {},
   "outputs": [
    {
     "name": "stdout",
     "output_type": "stream",
     "text": [
      "<class 'pandas.core.frame.DataFrame'>\n",
      "Int64Index: 77574 entries, 1727539 to 1187175\n",
      "Data columns (total 67 columns):\n",
      " #   Column                        Non-Null Count  Dtype  \n",
      "---  ------                        --------------  -----  \n",
      " 0   parcelid                      77574 non-null  int64  \n",
      " 1   airconditioningtypeid         25006 non-null  float64\n",
      " 2   architecturalstyletypeid      206 non-null    float64\n",
      " 3   basementsqft                  50 non-null     float64\n",
      " 4   bathroomcnt                   77574 non-null  float64\n",
      " 5   bedroomcnt                    77574 non-null  float64\n",
      " 6   buildingclasstypeid           15 non-null     float64\n",
      " 7   buildingqualitytypeid         49808 non-null  float64\n",
      " 8   calculatedbathnbr             76959 non-null  float64\n",
      " 9   decktypeid                    614 non-null    float64\n",
      " 10  finishedfloor1squarefeet      6035 non-null   float64\n",
      " 11  calculatedfinishedsquarefeet  77374 non-null  float64\n",
      " 12  finishedsquarefeet12          73919 non-null  float64\n",
      " 13  finishedsquarefeet13          42 non-null     float64\n",
      " 14  finishedsquarefeet15          3027 non-null   float64\n",
      " 15  finishedsquarefeet50          6035 non-null   float64\n",
      " 16  finishedsquarefeet6           386 non-null    float64\n",
      " 17  fips                          77574 non-null  float64\n",
      " 18  fireplacecnt                  8287 non-null   float64\n",
      " 19  fullbathcnt                   76959 non-null  float64\n",
      " 20  garagecarcnt                  25517 non-null  float64\n",
      " 21  garagetotalsqft               25517 non-null  float64\n",
      " 22  hashottuborspa                1539 non-null   float64\n",
      " 23  heatingorsystemtypeid         49569 non-null  float64\n",
      " 24  latitude                      77574 non-null  float64\n",
      " 25  longitude                     77574 non-null  float64\n",
      " 26  lotsizesquarefeet             69317 non-null  float64\n",
      " 27  poolcnt                       16173 non-null  float64\n",
      " 28  poolsizesum                   869 non-null    float64\n",
      " 29  pooltypeid10                  465 non-null    float64\n",
      " 30  pooltypeid2                   1074 non-null   float64\n",
      " 31  pooltypeid7                   15078 non-null  float64\n",
      " 32  propertycountylandusecode     77574 non-null  object \n",
      " 33  propertylandusetypeid         77574 non-null  float64\n",
      " 34  propertyzoningdesc            50474 non-null  object \n",
      " 35  rawcensustractandblock        77574 non-null  float64\n",
      " 36  regionidcity                  76102 non-null  float64\n",
      " 37  regionidcounty                77574 non-null  float64\n",
      " 38  regionidneighborhood          30973 non-null  float64\n",
      " 39  regionidzip                   77524 non-null  float64\n",
      " 40  roomcnt                       77574 non-null  float64\n",
      " 41  storytypeid                   50 non-null     float64\n",
      " 42  threequarterbathnbr           10105 non-null  float64\n",
      " 43  typeconstructiontypeid        222 non-null    float64\n",
      " 44  unitcnt                       50702 non-null  float64\n",
      " 45  yardbuildingsqft17            2393 non-null   float64\n",
      " 46  yardbuildingsqft26            70 non-null     float64\n",
      " 47  yearbuilt                     77305 non-null  float64\n",
      " 48  numberofstories               17596 non-null  float64\n",
      " 49  fireplaceflag                 172 non-null    float64\n",
      " 50  structuretaxvaluedollarcnt    77459 non-null  float64\n",
      " 51  taxvaluedollarcnt             77573 non-null  float64\n",
      " 52  assessmentyear                77574 non-null  float64\n",
      " 53  landtaxvaluedollarcnt         77572 non-null  float64\n",
      " 54  taxamount                     77569 non-null  float64\n",
      " 55  taxdelinquencyflag            2900 non-null   object \n",
      " 56  taxdelinquencyyear            2900 non-null   float64\n",
      " 57  censustractandblock           77327 non-null  float64\n",
      " 58  logerror                      77574 non-null  float64\n",
      " 59  transactiondate               77574 non-null  object \n",
      " 60  airconditioningdesc           25006 non-null  object \n",
      " 61  architecturalstyledesc        206 non-null    object \n",
      " 62  buildingclassdesc             15 non-null     object \n",
      " 63  heatingorsystemdesc           49569 non-null  object \n",
      " 64  propertylandusedesc           77574 non-null  object \n",
      " 65  storydesc                     50 non-null     object \n",
      " 66  typeconstructiondesc          222 non-null    object \n",
      "dtypes: float64(55), int64(1), object(11)\n",
      "memory usage: 40.2+ MB\n"
     ]
    }
   ],
   "source": [
    "df_zillow.info()"
   ]
  },
  {
   "cell_type": "code",
   "execution_count": 4,
   "id": "3561e58a",
   "metadata": {},
   "outputs": [],
   "source": [
    "# Create a function that will remove rows and columns that have missing values past a certain threshold.\n",
    "def handle_missing_values(df, p_row = 0.84, p_col = 0.84):\n",
    "    ''' function which takes in a dataframe, required notnull proportions of non-null rows and columns.\n",
    "    drop the columns and rows columns based on theshold:'''\n",
    "    \n",
    "    #drop columns with nulls\n",
    "    threshold = int(p_col * len(df.index)) # Require that many non-NA values.\n",
    "    df.dropna(axis = 1, thresh = threshold, inplace = True)\n",
    "    \n",
    "    #drop rows with nulls\n",
    "    threshold = int(p_row * len(df.columns)) # Require that many non-NA values.\n",
    "    df.dropna(axis = 0, thresh = threshold, inplace = True)\n",
    "    \n",
    "    \n",
    "    return df"
   ]
  },
  {
   "cell_type": "code",
   "execution_count": 5,
   "id": "d851c949",
   "metadata": {},
   "outputs": [
    {
     "name": "stdout",
     "output_type": "stream",
     "text": [
      "<class 'pandas.core.frame.DataFrame'>\n",
      "Int64Index: 77474 entries, 1727539 to 1187175\n",
      "Data columns (total 28 columns):\n",
      " #   Column                        Non-Null Count  Dtype  \n",
      "---  ------                        --------------  -----  \n",
      " 0   parcelid                      77474 non-null  int64  \n",
      " 1   bathroomcnt                   77474 non-null  float64\n",
      " 2   bedroomcnt                    77474 non-null  float64\n",
      " 3   calculatedbathnbr             76959 non-null  float64\n",
      " 4   calculatedfinishedsquarefeet  77373 non-null  float64\n",
      " 5   finishedsquarefeet12          73919 non-null  float64\n",
      " 6   fips                          77474 non-null  float64\n",
      " 7   fullbathcnt                   76959 non-null  float64\n",
      " 8   latitude                      77474 non-null  float64\n",
      " 9   longitude                     77474 non-null  float64\n",
      " 10  lotsizesquarefeet             69300 non-null  float64\n",
      " 11  propertycountylandusecode     77474 non-null  object \n",
      " 12  propertylandusetypeid         77474 non-null  float64\n",
      " 13  rawcensustractandblock        77474 non-null  float64\n",
      " 14  regionidcity                  76014 non-null  float64\n",
      " 15  regionidcounty                77474 non-null  float64\n",
      " 16  regionidzip                   77429 non-null  float64\n",
      " 17  roomcnt                       77474 non-null  float64\n",
      " 18  yearbuilt                     77305 non-null  float64\n",
      " 19  structuretaxvaluedollarcnt    77375 non-null  float64\n",
      " 20  taxvaluedollarcnt             77473 non-null  float64\n",
      " 21  assessmentyear                77474 non-null  float64\n",
      " 22  landtaxvaluedollarcnt         77473 non-null  float64\n",
      " 23  taxamount                     77469 non-null  float64\n",
      " 24  censustractandblock           77248 non-null  float64\n",
      " 25  logerror                      77474 non-null  float64\n",
      " 26  transactiondate               77474 non-null  object \n",
      " 27  propertylandusedesc           77474 non-null  object \n",
      "dtypes: float64(24), int64(1), object(3)\n",
      "memory usage: 17.1+ MB\n"
     ]
    }
   ],
   "source": [
    "df_zillow = handle_missing_values(df_zillow)\n",
    "df_zillow.info()"
   ]
  },
  {
   "cell_type": "code",
   "execution_count": 6,
   "id": "9c28a78a",
   "metadata": {},
   "outputs": [],
   "source": [
    "df_zillow = df_zillow.dropna()"
   ]
  },
  {
   "cell_type": "code",
   "execution_count": 7,
   "id": "8755ae5d",
   "metadata": {},
   "outputs": [
    {
     "data": {
      "text/html": [
       "<div>\n",
       "<style scoped>\n",
       "    .dataframe tbody tr th:only-of-type {\n",
       "        vertical-align: middle;\n",
       "    }\n",
       "\n",
       "    .dataframe tbody tr th {\n",
       "        vertical-align: top;\n",
       "    }\n",
       "\n",
       "    .dataframe thead th {\n",
       "        text-align: right;\n",
       "    }\n",
       "</style>\n",
       "<table border=\"1\" class=\"dataframe\">\n",
       "  <thead>\n",
       "    <tr style=\"text-align: right;\">\n",
       "      <th></th>\n",
       "      <th>bedroomcnt</th>\n",
       "      <th>calculatedfinishedsquarefeet</th>\n",
       "    </tr>\n",
       "    <tr>\n",
       "      <th>id</th>\n",
       "      <th></th>\n",
       "      <th></th>\n",
       "    </tr>\n",
       "  </thead>\n",
       "  <tbody>\n",
       "    <tr>\n",
       "      <th>1727539</th>\n",
       "      <td>4.0</td>\n",
       "      <td>3100.0</td>\n",
       "    </tr>\n",
       "    <tr>\n",
       "      <th>1387261</th>\n",
       "      <td>2.0</td>\n",
       "      <td>1465.0</td>\n",
       "    </tr>\n",
       "  </tbody>\n",
       "</table>\n",
       "</div>"
      ],
      "text/plain": [
       "         bedroomcnt  calculatedfinishedsquarefeet\n",
       "id                                               \n",
       "1727539         4.0                        3100.0\n",
       "1387261         2.0                        1465.0"
      ]
     },
     "execution_count": 7,
     "metadata": {},
     "output_type": "execute_result"
    }
   ],
   "source": [
    "# Cluster on all or a selected subset of features\n",
    "bed_sqft = df_zillow[[\"bedroomcnt\", \"calculatedfinishedsquarefeet\"]]\n",
    "bed_sqft.head(2)"
   ]
  },
  {
   "cell_type": "code",
   "execution_count": 8,
   "id": "06d0479c",
   "metadata": {},
   "outputs": [
    {
     "data": {
      "text/plain": [
       "array([[0.36363636, 0.13537218],\n",
       "       [0.18181818, 0.06029297],\n",
       "       [0.27272727, 0.05009873],\n",
       "       [0.36363636, 0.1021261 ],\n",
       "       [0.27272727, 0.05326721],\n",
       "       [0.27272727, 0.06153281],\n",
       "       [0.36363636, 0.12903522],\n",
       "       [0.18181818, 0.02690912],\n",
       "       [0.36363636, 0.13257106],\n",
       "       [0.18181818, 0.05225697]])"
      ]
     },
     "execution_count": 8,
     "metadata": {},
     "output_type": "execute_result"
    }
   ],
   "source": [
    "# create the scaler\n",
    "scaler = MinMaxScaler().fit(bed_sqft)\n",
    "# use the scaler\n",
    "bed_sqft_scaled = scaler.transform(bed_sqft)\n",
    "bed_sqft_scaled[0:10]"
   ]
  },
  {
   "cell_type": "code",
   "execution_count": null,
   "id": "1323f452",
   "metadata": {},
   "outputs": [],
   "source": [
    "dbsc = DBSCAN(eps = 0.1, min_samples=4).fit(bed_sqft_scaled)\n",
    "print(dbsc)"
   ]
  },
  {
   "cell_type": "code",
   "execution_count": null,
   "id": "89628f0a",
   "metadata": {},
   "outputs": [],
   "source": [
    "columns = list(bed_sqft.columns)\n",
    "scaled_columns = [\"scaled_\" + column for column in columns]\n",
    "scaled_columns"
   ]
  },
  {
   "cell_type": "code",
   "execution_count": null,
   "id": "ad44f5e7",
   "metadata": {},
   "outputs": [],
   "source": [
    "# Create a dataframe containing the scaled values\n",
    "scaled_df = pd.DataFrame(bed_sqft_scaled, columns=scaled_columns, index=bed_sqft.index)\n",
    "scaled_df.head()"
   ]
  },
  {
   "cell_type": "code",
   "execution_count": null,
   "id": "a68e64f8",
   "metadata": {},
   "outputs": [],
   "source": [
    "# Merge the scaled and non-scaled values into one dataframe\n",
    "bed_sqft = bed_sqft.merge(scaled_df, left_index=True, right_index=True)\n",
    "bed_sqft"
   ]
  },
  {
   "cell_type": "code",
   "execution_count": null,
   "id": "4ddf9c62",
   "metadata": {},
   "outputs": [],
   "source": [
    "labels = dbsc.labels_"
   ]
  },
  {
   "cell_type": "code",
   "execution_count": null,
   "id": "91e76453",
   "metadata": {},
   "outputs": [],
   "source": [
    "#add labels back to the dataframe\n",
    "page_views['labels'] = labels\n",
    "\n",
    "# how many unique labels (clusters) are created by DBSCAN?\n",
    "page_views.labels.value_counts()"
   ]
  },
  {
   "cell_type": "code",
   "execution_count": null,
   "id": "43848654",
   "metadata": {},
   "outputs": [],
   "source": [
    "plt.scatter(bed_sqft['scaled_'], bed_sqft['scaled_nunique'], c=page_views.labels)\n",
    "plt.show()"
   ]
  },
  {
   "cell_type": "code",
   "execution_count": null,
   "id": "e6effd3d",
   "metadata": {},
   "outputs": [],
   "source": []
  }
 ],
 "metadata": {
  "kernelspec": {
   "display_name": "Python 3",
   "language": "python",
   "name": "python3"
  },
  "language_info": {
   "codemirror_mode": {
    "name": "ipython",
    "version": 3
   },
   "file_extension": ".py",
   "mimetype": "text/x-python",
   "name": "python",
   "nbconvert_exporter": "python",
   "pygments_lexer": "ipython3",
   "version": "3.8.8"
  }
 },
 "nbformat": 4,
 "nbformat_minor": 5
}
